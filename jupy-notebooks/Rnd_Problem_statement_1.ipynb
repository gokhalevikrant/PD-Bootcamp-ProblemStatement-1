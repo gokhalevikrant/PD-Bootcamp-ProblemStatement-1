{
 "cells": [
  {
   "cell_type": "markdown",
   "id": "acb43edb",
   "metadata": {},
   "source": [
    "## Problem Statement 1 "
   ]
  },
  {
   "cell_type": "markdown",
   "id": "2a3d0451",
   "metadata": {},
   "source": [
    "* Classification of a specific heart disease using machine learning techniques.\n",
    " \n",
    " * Objective: To build machine learning model, that can detect between a subject afflicted with heart disease and someone who is normal"
   ]
  },
  {
   "attachments": {},
   "cell_type": "markdown",
   "id": "56b93638",
   "metadata": {},
   "source": [
    "Points to note:\n",
    "\n",
    "    1. Higher the age, risk of age increases\n",
    "    \n",
    "    2. Males have higher risk of heart disease\n",
    "    \n",
    "    3. cp: Value 3 lowest risk, Value 0 highest predictor of heart disease\n",
    "    \n",
    "    4. trestbps (esting blood pressure): Assuming 120 (systolic) / 80 (diaastolic) as normal, above increases risk of h.disease\n",
    "    \n",
    "    5. chol: ASsuming generally accepeted level is 200, more than that indicates risk for h.disease\n",
    "    \n",
    "    6. fbs: 1 is at higher risk\n",
    "    \n",
    "    7. restecg: 0 - normal, 2 - highest\n",
    "    \n",
    "    8. thalach: higher the value, risk increases (60-100 normal)\n",
    "    \n",
    "    9. exang: 1 - higher risk\n",
    "    \n",
    "    10. oldpeak: higher number, risk increases (related to ecg)\n",
    "    \n",
    "    11. slope: 2 - highest risk, 0 is lowest risk\n",
    "    \n",
    "    12. ca: More number, increase the chance for heart disease\n",
    "    \n",
    "    13. thal: thallium stress result - 2 more prone to heart disease\n",
    "    \n",
    "    \n",
    "Top factors:\n",
    "1) cp (chest pain)\n",
    "\n",
    "2) ca\n",
    "\n",
    "3) exang\n",
    "\n",
    "    "
   ]
  },
  {
   "cell_type": "markdown",
   "id": "5e377f6f",
   "metadata": {},
   "source": [
    "1) Problem statement\n",
    "    - Highlight attributes specific to dataset\n",
    "2) Importing required libraries\n",
    "3) Load data\n",
    "4) EDA - visualizations, insights\n",
    "5) Feature engineering and Model building\n",
    "    - Preprocessing \n",
    "        - checking class imbalance\n",
    "        - Missing values\n",
    "        - duplicate records\n",
    "        - Outliers\n",
    "     \n",
    "     - Feature selection\n",
    "         - Correlation wrt target cols\n",
    "     \n",
    "     - Model building\n",
    "         - Train test split\n",
    "         - ML models -\n",
    "             Base: min 2 classication models\n",
    "             Adv: Tree based, DL\n",
    "         \n",
    "     - Performance metrics\n",
    "         - Accuracy , precision, recall, Confusion metrics\n",
    "         - Train test accuracy plots (check overfitting, underfitting)\n",
    "        \n",
    "6) Deployment:\n",
    "    - Github repo\n",
    "    - Dockerization, jenkins\n",
    "    - ngrok"
   ]
  },
  {
   "cell_type": "code",
   "execution_count": null,
   "id": "e0990159",
   "metadata": {},
   "outputs": [],
   "source": []
  },
  {
   "cell_type": "code",
   "execution_count": null,
   "id": "95ea8265",
   "metadata": {},
   "outputs": [],
   "source": []
  },
  {
   "cell_type": "code",
   "execution_count": null,
   "id": "d7cf9730",
   "metadata": {},
   "outputs": [],
   "source": []
  }
 ],
 "metadata": {
  "kernelspec": {
   "display_name": "Python 3 (ipykernel)",
   "language": "python",
   "name": "python3"
  },
  "language_info": {
   "codemirror_mode": {
    "name": "ipython",
    "version": 3
   },
   "file_extension": ".py",
   "mimetype": "text/x-python",
   "name": "python",
   "nbconvert_exporter": "python",
   "pygments_lexer": "ipython3",
   "version": "3.10.10"
  }
 },
 "nbformat": 4,
 "nbformat_minor": 5
}
